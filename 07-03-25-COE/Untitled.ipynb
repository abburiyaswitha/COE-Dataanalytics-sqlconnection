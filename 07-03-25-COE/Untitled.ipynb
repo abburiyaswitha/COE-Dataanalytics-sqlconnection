{
 "cells": [
  {
   "cell_type": "code",
   "execution_count": 1,
   "id": "f568552c",
   "metadata": {},
   "outputs": [
    {
     "data": {
      "text/html": [
       "<div>\n",
       "<style scoped>\n",
       "    .dataframe tbody tr th:only-of-type {\n",
       "        vertical-align: middle;\n",
       "    }\n",
       "\n",
       "    .dataframe tbody tr th {\n",
       "        vertical-align: top;\n",
       "    }\n",
       "\n",
       "    .dataframe thead th {\n",
       "        text-align: right;\n",
       "    }\n",
       "</style>\n",
       "<table border=\"1\" class=\"dataframe\">\n",
       "  <thead>\n",
       "    <tr style=\"text-align: right;\">\n",
       "      <th></th>\n",
       "      <th>X</th>\n",
       "      <th>Y</th>\n",
       "    </tr>\n",
       "  </thead>\n",
       "  <tbody>\n",
       "    <tr>\n",
       "      <th>0</th>\n",
       "      <td>1</td>\n",
       "      <td>3</td>\n",
       "    </tr>\n",
       "    <tr>\n",
       "      <th>1</th>\n",
       "      <td>2</td>\n",
       "      <td>4</td>\n",
       "    </tr>\n",
       "    <tr>\n",
       "      <th>2</th>\n",
       "      <td>3</td>\n",
       "      <td>2</td>\n",
       "    </tr>\n",
       "    <tr>\n",
       "      <th>3</th>\n",
       "      <td>4</td>\n",
       "      <td>4</td>\n",
       "    </tr>\n",
       "    <tr>\n",
       "      <th>4</th>\n",
       "      <td>5</td>\n",
       "      <td>5</td>\n",
       "    </tr>\n",
       "  </tbody>\n",
       "</table>\n",
       "</div>"
      ],
      "text/plain": [
       "   X  Y\n",
       "0  1  3\n",
       "1  2  4\n",
       "2  3  2\n",
       "3  4  4\n",
       "4  5  5"
      ]
     },
     "execution_count": 1,
     "metadata": {},
     "output_type": "execute_result"
    }
   ],
   "source": [
    "import pandas as pd\n",
    "import numpy as np\n",
    "import matplotlib.pyplot as plt\n",
    "data=pd.read_csv(\"C:\\\\Users\\\\CVR\\\\Desktop\\\\pythonProject1\\\\07-03-25-COE\\\\slope.csv\")\n",
    "data\n"
   ]
  },
  {
   "cell_type": "code",
   "execution_count": 14,
   "id": "bad0d5aa",
   "metadata": {},
   "outputs": [
    {
     "name": "stdout",
     "output_type": "stream",
     "text": [
      "Equation of the line: y = 0.40x + 2.40\n"
     ]
    }
   ],
   "source": [
    "import numpy as np\n",
    "def LinearRegression(X, Y):\n",
    "    x_m = np.mean(X)\n",
    "    y_m = np.mean(Y)\n",
    "    num = 0\n",
    "    den = 0\n",
    "    n = len(X)\n",
    "    for i in range(n):\n",
    "        num += (X[i] - x_m) * (Y[i] - y_m)\n",
    "        den += (X[i] - x_m) ** 2\n",
    "    m = num / den  # Slope\n",
    "    c = y_m - (m * x_m)  # Intercept\n",
    "    return m, c\n",
    "# Given data    \n",
    "X = [1, 2, 3, 4, 5]\n",
    "Y = [3, 4, 2, 4, 5]\n",
    "\n",
    "# Compute slope and intercept\n",
    "m, c = LinearRegression(X, Y)\n",
    "# Print the result\n",
    "print(f\"Equation of the line: y = {m:.2f}x + {c:.2f}\")\n"
   ]
  },
  {
   "cell_type": "code",
   "execution_count": 24,
   "id": "08a92b07",
   "metadata": {},
   "outputs": [
    {
     "name": "stdout",
     "output_type": "stream",
     "text": [
      "Predicted values for X: [2.8, 3.2, 3.6, 4.0, 4.4]\n"
     ]
    }
   ],
   "source": [
    "def Predict(X, m, c):\n",
    "    yP = []  \n",
    "    for i in range(len(X)):\n",
    "        yP.append(m * X[i] + c)  \n",
    "    return yP\n",
    "y_p = Predict(X, m, c)  \n",
    "print(f\"Predicted values for X: {y_p}\")"
   ]
  },
  {
   "cell_type": "code",
   "execution_count": 32,
   "id": "1063b5e7",
   "metadata": {},
   "outputs": [
    {
     "data": {
      "text/plain": [
       "([3, 4, 2, 4, 5], [2.8, 3.2, 3.6, 4.0, 4.4])"
      ]
     },
     "execution_count": 32,
     "metadata": {},
     "output_type": "execute_result"
    }
   ],
   "source": [
    "y_m=np.mean(Y)\n",
    "Y,y_p\n"
   ]
  },
  {
   "cell_type": "code",
   "execution_count": 39,
   "id": "39c16fe2",
   "metadata": {},
   "outputs": [],
   "source": [
    "def r2score(y,y_p):\n",
    "    ym=np.mean(Y)\n",
    "    print(ym)\n",
    "    num=0\n",
    "    den=0\n",
    "    for i in range(len(Y)):\n",
    "        num=num+(y_p[i]-ym)**2\n",
    "        den=den+(y[i]-ym)**2\n",
    "    return num/ den"
   ]
  },
  {
   "cell_type": "code",
   "execution_count": 40,
   "id": "0c1ddfb9",
   "metadata": {},
   "outputs": [
    {
     "name": "stdout",
     "output_type": "stream",
     "text": [
      "3.6\n",
      "0.6923076923076922\n"
     ]
    }
   ],
   "source": [
    "print(1-r2score(Y,y_p))"
   ]
  },
  {
   "cell_type": "code",
   "execution_count": null,
   "id": "ffbb52ce",
   "metadata": {},
   "outputs": [],
   "source": []
  }
 ],
 "metadata": {
  "kernelspec": {
   "display_name": "Python 3 (ipykernel)",
   "language": "python",
   "name": "python3"
  },
  "language_info": {
   "codemirror_mode": {
    "name": "ipython",
    "version": 3
   },
   "file_extension": ".py",
   "mimetype": "text/x-python",
   "name": "python",
   "nbconvert_exporter": "python",
   "pygments_lexer": "ipython3",
   "version": "3.11.5"
  }
 },
 "nbformat": 4,
 "nbformat_minor": 5
}
